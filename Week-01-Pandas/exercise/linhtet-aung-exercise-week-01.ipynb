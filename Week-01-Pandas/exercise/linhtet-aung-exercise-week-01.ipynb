{
 "cells": [
  {
   "cell_type": "markdown",
   "metadata": {},
   "source": [
    "# First print your name in the cell below then save this file. (or something nice about your instructor)"
   ]
  },
  {
   "cell_type": "code",
   "execution_count": 1,
   "metadata": {},
   "outputs": [
    {
     "name": "stdout",
     "output_type": "stream",
     "text": [
      "Lin Htet Aung\n"
     ]
    }
   ],
   "source": [
    "# In this cell print your name \n",
    "\n",
    "print(\"Lin Htet Aung\")\n",
    "\n",
    "\n",
    "with open(\"myname.txt\", 'w') as f:\n",
    "    f.write(\"Lin Htet Aung\")"
   ]
  },
  {
   "cell_type": "markdown",
   "metadata": {},
   "source": [
    "# Data wrangling with Pandas exercise\n",
    "* For this exercise we will be using the `listings.csv` data file."
   ]
  },
  {
   "cell_type": "code",
   "execution_count": 3,
   "metadata": {},
   "outputs": [],
   "source": [
    "import pandas as pd\n",
    "import numpy as np\n"
   ]
  },
  {
   "cell_type": "markdown",
   "metadata": {},
   "source": [
    "# Load in the data file using `pd.read_csv()`"
   ]
  },
  {
   "cell_type": "code",
   "execution_count": 4,
   "metadata": {},
   "outputs": [],
   "source": [
    "# Load data here\n",
    "\n",
    "df = pd.read_csv('../data/listings.csv')\n"
   ]
  },
  {
   "cell_type": "markdown",
   "metadata": {},
   "source": [
    "## Exercise 2 - Filtering\n",
    "\n",
    "Return the following subsets of the dataframe.\n",
    "\n",
    "1. How many listings are there with a price less than 100? \n",
    "\n",
    "\n",
    "2. Find how many listings there are in just Brooklyn.\n",
    "\n",
    "\n",
    "3. Find how many listings there are in Brooklyn with a price less than 100.\n",
    "\n",
    "\n",
    "4. Using `.isin()` select anyone that has the host name of Michael, David, John, and Daniel.\n",
    "\n",
    "\n",
    "5. Create a new column called `adjusted_price` that has $100 added to every listing in Williamsburg.  The prices for all other listings should be the same as the were before. \n",
    "\n",
    "\n",
    "6. What % of the rooms are private, and what % of the rooms are shared.  \n",
    "    * Hint, use `.value_counts()`\n"
   ]
  },
  {
   "cell_type": "code",
   "execution_count": 17,
   "metadata": {},
   "outputs": [],
   "source": [
    "# 1. How many listings are there with a price less than 100? \n",
    "c1 = df['price'] < 100\n",
    "\n",
    "new_ls = df[c1].neighbourhood_group.value_counts\n",
    "\n"
   ]
  },
  {
   "cell_type": "code",
   "execution_count": 12,
   "metadata": {},
   "outputs": [
    {
     "name": "stdout",
     "output_type": "stream",
     "text": [
      "0        False\n",
      "1         True\n",
      "2         True\n",
      "3         True\n",
      "4        False\n",
      "         ...  \n",
      "46522    False\n",
      "46523    False\n",
      "46524     True\n",
      "46525    False\n",
      "46526     True\n",
      "Name: neighbourhood_group, Length: 46527, dtype: bool\n"
     ]
    }
   ],
   "source": [
    "# 2. Make a new DataFrame of listings in Brooklyn named `df_bk` \n",
    "# and find how many listings in just Brooklyn.\n",
    "\n",
    "c2 = df['neighbourhood_group'] == 'Brooklyn'\n",
    "\n",
    "print(c2)"
   ]
  },
  {
   "cell_type": "code",
   "execution_count": 14,
   "metadata": {},
   "outputs": [
    {
     "name": "stdout",
     "output_type": "stream",
     "text": [
      "             id                                               name    host_id  \\\n",
      "1          3831  Whole flr w/private bdrm, bath & kitchen(pls r...       4869   \n",
      "2          5121                                    BlissArtsSpace!       7356   \n",
      "8          5803     Lovely Room 1, Garden, Best Area, Legal rental       9744   \n",
      "21        10452                              Large B&B Style rooms      35935   \n",
      "22        10962            Lovely Room 2; Garden; Best area, Legal       9744   \n",
      "...         ...                                                ...        ...   \n",
      "46510  44798876  Unique & beautiful design! Skylights-Washer/dryer  143513836   \n",
      "46517  44802032                  A very large room in Williamsburg  213793805   \n",
      "46518  44802224  Unique & beautiful design! Skylights-Washer/dryer  143513836   \n",
      "46524  44811717  Comfortable safe environment 24hr security camera  362453686   \n",
      "46526  44818009  5MIN D/N trains, NEAR THE BEACH, 50’ TO MANHATTAN   48098268   \n",
      "\n",
      "         host_name neighbourhood_group       neighbourhood  latitude  \\\n",
      "1      LisaRoxanne            Brooklyn        Clinton Hill  40.68514   \n",
      "2            Garon            Brooklyn  Bedford-Stuyvesant  40.68688   \n",
      "8           Laurie            Brooklyn         South Slope  40.66829   \n",
      "21          Angela            Brooklyn  Bedford-Stuyvesant  40.68310   \n",
      "22          Laurie            Brooklyn         South Slope  40.66869   \n",
      "...            ...                 ...                 ...       ...   \n",
      "46510    Elisabeth            Brooklyn       Crown Heights  40.67156   \n",
      "46517         Omer            Brooklyn        Williamsburg  40.71970   \n",
      "46518    Elisabeth            Brooklyn       Crown Heights  40.67302   \n",
      "46524       Nicole            Brooklyn       East Flatbush  40.65399   \n",
      "46526       Marina            Brooklyn           Gravesend  40.59945   \n",
      "\n",
      "       longitude        room_type  price  minimum_nights  number_of_reviews  \\\n",
      "1      -73.95976  Entire home/apt     75               1                340   \n",
      "2      -73.95596     Private room     60              29                 50   \n",
      "8      -73.98779     Private room     88               4                180   \n",
      "21     -73.95473     Private room     70               3                 75   \n",
      "22     -73.98780     Private room     88               4                180   \n",
      "...          ...              ...    ...             ...                ...   \n",
      "46510  -73.91651     Private room     61              30                  0   \n",
      "46517  -73.95632     Private room     55              14                  0   \n",
      "46518  -73.91695     Private room     61              30                  0   \n",
      "46524  -73.93287     Private room     59               3                  0   \n",
      "46526  -73.98209     Private room     66               1                  0   \n",
      "\n",
      "      last_review  reviews_per_month  calculated_host_listings_count  \\\n",
      "1      2020-08-01               4.75                               1   \n",
      "2      2019-12-02               0.37                               1   \n",
      "8      2020-03-18               1.31                               3   \n",
      "21     2019-10-12               0.60                               2   \n",
      "22     2020-08-03               1.36                               3   \n",
      "...           ...                ...                             ...   \n",
      "46510         NaN                NaN                               5   \n",
      "46517         NaN                NaN                               1   \n",
      "46518         NaN                NaN                               5   \n",
      "46524         NaN                NaN                               1   \n",
      "46526         NaN                NaN                               1   \n",
      "\n",
      "       availability_365  \n",
      "1                   265  \n",
      "2                   365  \n",
      "8                   344  \n",
      "21                  365  \n",
      "22                  365  \n",
      "...                 ...  \n",
      "46510               329  \n",
      "46517                45  \n",
      "46518               363  \n",
      "46524                90  \n",
      "46526                38  \n",
      "\n",
      "[10473 rows x 16 columns]\n"
     ]
    }
   ],
   "source": [
    "# 3. Find how many listings there are in Brooklyn with a price less than 100.\n",
    "\n",
    "new_ls = df[c1 & c2]\n",
    "\n",
    "print(new_ls)\n"
   ]
  },
  {
   "cell_type": "code",
   "execution_count": 16,
   "metadata": {},
   "outputs": [
    {
     "data": {
      "text/plain": [
       "<bound method DataFrame.value_counts of              id                                               name    host_id  \\\n",
       "52        16595  LOFT HAVEN ~ Six Windows ~ Bricks ~ Plants ~ Q...      64522   \n",
       "209       62903  Beautiful modern studio apartment in heart of NYC     306605   \n",
       "260       74073       Food & Music Dream Apartment in Williamsburg     211877   \n",
       "349      138216                 Sunny and Spacious Designer's Home     674970   \n",
       "351      140133                    Truly Amazing Oasis In The City     622866   \n",
       "...         ...                                                ...        ...   \n",
       "46326  44609991     THE \"BUSHWICK EXPERIENCE\"- CENTER OF IT ALL!!!   23296177   \n",
       "46332  44615784          Feel at home in the heart of Williamsburg   40999075   \n",
       "46362  44639591  Central & Stylish 1 Bedroom Apt - Heart of Che...  286136716   \n",
       "46396  44661297                       Flushing Sunshine home  #101  361579037   \n",
       "46403  44662157                        Flushing Sunshine home #102  361579037   \n",
       "\n",
       "      host_name neighbourhood_group neighbourhood  latitude  longitude  \\\n",
       "52       Daniel            Brooklyn  Williamsburg  40.70933  -73.96792   \n",
       "209      Daniel           Manhattan       Chelsea  40.74238  -73.99567   \n",
       "260      Daniel            Brooklyn  Williamsburg  40.71113  -73.96054   \n",
       "349     Michael            Brooklyn    Greenpoint  40.72212  -73.94254   \n",
       "351      Daniel            Brooklyn  Williamsburg  40.71363  -73.96019   \n",
       "...         ...                 ...           ...       ...        ...   \n",
       "46326    Daniel            Brooklyn      Bushwick  40.70326  -73.92547   \n",
       "46332      John            Brooklyn    Greenpoint  40.71975  -73.95213   \n",
       "46362      John           Manhattan       Chelsea  40.74568  -73.99694   \n",
       "46396    Daniel              Queens      Flushing  40.74603  -73.82837   \n",
       "46403    Daniel              Queens      Flushing  40.74441  -73.82829   \n",
       "\n",
       "             room_type  price  minimum_nights  number_of_reviews last_review  \\\n",
       "52     Entire home/apt    271               1                172  2020-07-14   \n",
       "209    Entire home/apt    205              15                 68  2019-12-14   \n",
       "260    Entire home/apt    187              30                 90  2020-07-31   \n",
       "349    Entire home/apt    100               6                  9  2019-09-20   \n",
       "351    Entire home/apt    255               3                172  2020-07-02   \n",
       "...                ...    ...             ...                ...         ...   \n",
       "46326     Private room     80               1                  0         NaN   \n",
       "46332  Entire home/apt    105               2                  0         NaN   \n",
       "46362  Entire home/apt    110              30                  0         NaN   \n",
       "46396     Private room     52               1                  0         NaN   \n",
       "46403     Private room     55               1                  3  2020-08-16   \n",
       "\n",
       "       reviews_per_month  calculated_host_listings_count  availability_365  \n",
       "52                  1.44                               1               365  \n",
       "209                 0.67                               2                89  \n",
       "260                 0.81                               1               261  \n",
       "349                 0.17                               1                 0  \n",
       "351                 1.56                               1               319  \n",
       "...                  ...                             ...               ...  \n",
       "46326                NaN                               1                90  \n",
       "46332                NaN                               1                13  \n",
       "46362                NaN                               3               110  \n",
       "46396                NaN                               2               360  \n",
       "46403               3.00                               2               365  \n",
       "\n",
       "[913 rows x 16 columns]>"
      ]
     },
     "execution_count": 16,
     "metadata": {},
     "output_type": "execute_result"
    }
   ],
   "source": [
    "# 4. Using `.isin()` select anyone that has the host name of Michael, David, John, and Daniel.\n",
    "# How many total are there that have those names\n",
    "\n",
    "host_names = ['Michael', 'Davide', 'John', 'Daniel']\n",
    "\n",
    "condition = df.host_name.isin(host_names)\n",
    "\n",
    "df[condition].value_counts"
   ]
  },
  {
   "cell_type": "code",
   "execution_count": 19,
   "metadata": {},
   "outputs": [
    {
     "name": "stdout",
     "output_type": "stream",
     "text": [
      "<bound method NDFrame.head of              id                                               name    host_id  \\\n",
      "0          2595                              Skylit Midtown Castle       2845   \n",
      "1          3831  Whole flr w/private bdrm, bath & kitchen(pls r...       4869   \n",
      "2          5121                                    BlissArtsSpace!       7356   \n",
      "3          5136           Spacious Brooklyn Duplex, Patio + Garden       7378   \n",
      "4          5178                   Large Furnished Room Near B'way　       8967   \n",
      "...         ...                                                ...        ...   \n",
      "46522  44807522         Designer Gramercy Studio Townhouse by UNSQ   12941925   \n",
      "46523  44807786  Cozy & comfy apt in the heart of Inwood Manhattan  284790520   \n",
      "46524  44811717  Comfortable safe environment 24hr security camera  362453686   \n",
      "46525  44814944                 Upper West Side studio 86th Street    4039777   \n",
      "46526  44818009  5MIN D/N trains, NEAR THE BEACH, 50’ TO MANHATTAN   48098268   \n",
      "\n",
      "         host_name neighbourhood_group       neighbourhood  latitude  \\\n",
      "0         Jennifer           Manhattan             Midtown  40.75362   \n",
      "1      LisaRoxanne            Brooklyn        Clinton Hill  40.68514   \n",
      "2            Garon            Brooklyn  Bedford-Stuyvesant  40.68688   \n",
      "3          Rebecca            Brooklyn         Sunset Park  40.66120   \n",
      "4         Shunichi           Manhattan      Hell's Kitchen  40.76489   \n",
      "...            ...                 ...                 ...       ...   \n",
      "46522        Brian           Manhattan            Gramercy  40.73433   \n",
      "46523        Salar           Manhattan  Washington Heights  40.85820   \n",
      "46524       Nicole            Brooklyn       East Flatbush  40.65399   \n",
      "46525     Fernando           Manhattan     Upper West Side  40.78731   \n",
      "46526       Marina            Brooklyn           Gravesend  40.59945   \n",
      "\n",
      "       longitude        room_type  price  minimum_nights  number_of_reviews  \\\n",
      "0      -73.98377  Entire home/apt    175               3                 48   \n",
      "1      -73.95976  Entire home/apt     75               1                340   \n",
      "2      -73.95596     Private room     60              29                 50   \n",
      "3      -73.99423  Entire home/apt    175              14                  1   \n",
      "4      -73.98493     Private room     65               2                473   \n",
      "...          ...              ...    ...             ...                ...   \n",
      "46522  -73.98383  Entire home/apt    145               7                  0   \n",
      "46523  -73.92733  Entire home/apt     87               6                  0   \n",
      "46524  -73.93287     Private room     59               3                  0   \n",
      "46525  -73.97029  Entire home/apt     80              30                  0   \n",
      "46526  -73.98209     Private room     66               1                  0   \n",
      "\n",
      "      last_review  reviews_per_month  calculated_host_listings_count  \\\n",
      "0      2019-11-04               0.37                               2   \n",
      "1      2020-08-01               4.75                               1   \n",
      "2      2019-12-02               0.37                               1   \n",
      "3      2014-01-02               0.01                               1   \n",
      "4      2020-03-15               3.44                               1   \n",
      "...           ...                ...                             ...   \n",
      "46522         NaN                NaN                               1   \n",
      "46523         NaN                NaN                               2   \n",
      "46524         NaN                NaN                               1   \n",
      "46525         NaN                NaN                               1   \n",
      "46526         NaN                NaN                               1   \n",
      "\n",
      "       availability_365  private_room_in_williamsburg  adjusted_price  \n",
      "0                   365                             0             175  \n",
      "1                   265                             0              75  \n",
      "2                   365                             0              60  \n",
      "3                   295                             0             175  \n",
      "4                   340                             0              65  \n",
      "...                 ...                           ...             ...  \n",
      "46522               164                             0             145  \n",
      "46523                85                             0              87  \n",
      "46524                90                             0              59  \n",
      "46525               113                             0              80  \n",
      "46526                38                             0              66  \n",
      "\n",
      "[46527 rows x 18 columns]>\n"
     ]
    }
   ],
   "source": [
    "# 5. Create a new column called `adjusted_price` that has $100 added to every listing in Williamsburg.  \n",
    "# The prices for all other listings should be the same as the were before. \n",
    "\n",
    "df['private_room_in_williamsburg'] =  np.where( c1 & c2, 1, 0 )\n",
    "\n",
    "c1 = df['neighbourhood'] == 'Williamsburg'\n",
    "\n",
    "df['adjusted_price'] = np.where(c1, df['price'] + 100, df['price'])\n",
    "\n",
    "print(df.head)"
   ]
  },
  {
   "cell_type": "code",
   "execution_count": 23,
   "metadata": {},
   "outputs": [
    {
     "data": {
      "text/plain": [
       "0        Entire home/apt\n",
       "1        Entire home/apt\n",
       "2           Private room\n",
       "3        Entire home/apt\n",
       "4           Private room\n",
       "              ...       \n",
       "46522    Entire home/apt\n",
       "46523    Entire home/apt\n",
       "46524       Private room\n",
       "46525    Entire home/apt\n",
       "46526       Private room\n",
       "Name: room_type, Length: 46527, dtype: object"
      ]
     },
     "execution_count": 23,
     "metadata": {},
     "output_type": "execute_result"
    }
   ],
   "source": [
    "# 6. What % of the rooms are private, and what % of the rooms are shared.  \n",
    "\n",
    "df['room_type']"
   ]
  },
  {
   "cell_type": "markdown",
   "metadata": {},
   "source": [
    "# Exercise 3 - Grouping\n",
    "\n",
    "1. Using `groupby`, count how many listings are in each neighbourhood_group.\n",
    "\n",
    "\n",
    "2. Using `groupby`, find the mean price for each of the neighbourhood_groups. \n",
    "\n",
    "\n",
    "3. Using `groupby` and `.agg()`, find the min and max price for each of the neighbourhood_groups. \n",
    "\n",
    "\n",
    "4. Using `groupby`, find the median price for each room type in each neighbourhood_group.\n",
    "\n",
    "\n",
    "5. Using `groupby` and `.agg()`, find the count, min, max, mean, median, and std of the prices for each room type in each neighbourhood_group."
   ]
  },
  {
   "cell_type": "code",
   "execution_count": 29,
   "metadata": {},
   "outputs": [],
   "source": [
    "# 1. Using `groupby`, count how many listings are in each neighbourhood_group.\n",
    "\n",
    "group_by_object = df.groupby('neighbourhood_group')\n"
   ]
  },
  {
   "cell_type": "code",
   "execution_count": 30,
   "metadata": {},
   "outputs": [
    {
     "data": {
      "text/plain": [
       "<bound method GroupBy.mean of <pandas.core.groupby.generic.SeriesGroupBy object at 0x70179b2386e0>>"
      ]
     },
     "execution_count": 30,
     "metadata": {},
     "output_type": "execute_result"
    }
   ],
   "source": [
    "# 2. Using `groupby`, find the mean price for each of the neighbourhood_groups. \n",
    "\n",
    "group_by_object['price'].mean"
   ]
  },
  {
   "cell_type": "code",
   "execution_count": null,
   "metadata": {},
   "outputs": [],
   "source": [
    "# 2.5. Using `groupby`, find the mean price for each room_type. \n"
   ]
  },
  {
   "cell_type": "code",
   "execution_count": 13,
   "metadata": {},
   "outputs": [],
   "source": [
    "# 3. Using `groupby` and `.agg()`, find the min and max price for each of the neighbourhood_groups. \n",
    "\n",
    "\n"
   ]
  },
  {
   "cell_type": "code",
   "execution_count": 14,
   "metadata": {},
   "outputs": [],
   "source": [
    "# 4. Using `groupby`, find the mean price for each room_type in each neighbourhood_group.\n",
    "\n"
   ]
  },
  {
   "cell_type": "code",
   "execution_count": 15,
   "metadata": {},
   "outputs": [],
   "source": [
    "# 5. Using `groupby` and `.agg()`, find the count, min, max, mean, median, and std of the prices \n",
    "# for each room type in each neighbourhood_group.\n",
    "\n",
    "\n",
    "\n"
   ]
  },
  {
   "cell_type": "markdown",
   "metadata": {},
   "source": [
    "# Load, Merge, and Export files.\n",
    "1. Load the `prices.csv` and the `n_listings.csv`\n",
    "    * Having an error..? Inspect the actual csv file if you're having trouble\n",
    "\n",
    "2. Do join that keeps all the records for each table.\n",
    "    * Neighbourhood groups should include ['Bronx', 'Brooklyn', 'Manhattan', 'Queens', 'Staten Island',\n",
    "       'LongIsland']\n",
    "\n",
    "       \n",
    "3. Save your joined csv as `joined.csv` into the data folder. \n",
    "\n",
    "\n",
    "4. Load your saved table and see if it looks the same or different that the DataFrame you used to create it. "
   ]
  },
  {
   "cell_type": "code",
   "execution_count": 16,
   "metadata": {},
   "outputs": [],
   "source": [
    "# 1. Load the `prices.csv` and the `n_listings.csv`"
   ]
  },
  {
   "cell_type": "code",
   "execution_count": 18,
   "metadata": {},
   "outputs": [],
   "source": [
    "# 2. Do join that keeps all the records for each table.\n",
    "\n",
    "\n"
   ]
  },
  {
   "cell_type": "code",
   "execution_count": null,
   "metadata": {},
   "outputs": [],
   "source": [
    "# 3. Save your joined csv as `joined.csv` into the data folder. "
   ]
  },
  {
   "cell_type": "code",
   "execution_count": null,
   "metadata": {},
   "outputs": [],
   "source": [
    "# 4. Load your newly saved file, see if it looks the same.  If not, try saving with argument `index=False`"
   ]
  },
  {
   "cell_type": "markdown",
   "metadata": {},
   "source": [
    "# Extra Credit\n",
    "Every question below this cell is extra credit and optional."
   ]
  },
  {
   "cell_type": "markdown",
   "metadata": {},
   "source": [
    "### 1. (Easy) Explore this new PandasAI Package and tell me what its all about because I've never used it. \n",
    "* https://www.youtube.com/watch?v=5w6eZaoDVVk&ab_channel=CodingIsFun  \n",
    "* See if you can use it on the listings.csv to find out some cool info. or answer some of the questions above. "
   ]
  },
  {
   "cell_type": "markdown",
   "metadata": {},
   "source": [
    "### 2. (Very Easy) Find other cool Panda packages / add ons and show us what they can do well. And how you installed them. "
   ]
  },
  {
   "cell_type": "markdown",
   "metadata": {},
   "source": [
    "### 3. (Medium) Use the grammys.csv data for the next section of questions.\n",
    "\n",
    "1. Who was won Album of the Year in 2016?\n",
    "\n",
    "\n",
    "2. Who won Best Rap Album in 2009?\n",
    "\n",
    "\n",
    "3. How many awards was Kendrick Lamar nomiated for, and how many did he win...?"
   ]
  },
  {
   "cell_type": "markdown",
   "metadata": {},
   "source": [
    "### (Hard) Load the Game Logs for 2022 and add the column names using a dictionary.  \n",
    "* [Link to the data page](https://www.retrosheet.org/gamelogs/)\n",
    "* [Link to the column names](https://procatinator.com/)\n",
    "* haha, gotta find them yourself!"
   ]
  },
  {
   "cell_type": "markdown",
   "metadata": {},
   "source": [
    "### (Extra Hard) Download the files for the past 5 years into a new folder and add them all into one data frame using pandas, then save that new file.\n",
    "* Try to not hard code in the file names. We want to do this programmatically because what if we want to add new/more file names in the future."
   ]
  },
  {
   "cell_type": "code",
   "execution_count": null,
   "metadata": {},
   "outputs": [],
   "source": []
  }
 ],
 "metadata": {
  "kernelspec": {
   "display_name": "Python 3",
   "language": "python",
   "name": "python3"
  },
  "language_info": {
   "codemirror_mode": {
    "name": "ipython",
    "version": 3
   },
   "file_extension": ".py",
   "mimetype": "text/x-python",
   "name": "python",
   "nbconvert_exporter": "python",
   "pygments_lexer": "ipython3",
   "version": "3.12.1"
  }
 },
 "nbformat": 4,
 "nbformat_minor": 4
}
